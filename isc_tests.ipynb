{
 "cells": [
  {
   "cell_type": "code",
   "execution_count": 1,
   "metadata": {},
   "outputs": [],
   "source": [
    "import numpy as np\n",
    "from scipy.stats import pearsonr, ttest_1samp\n",
    "from brainiak.isc import (isc, permutation_isc, bootstrap_isc,\n",
    "                          phaseshift_isc, timeshift_isc,\n",
    "                          compute_summary_statistic,\n",
    "                          _check_timeseries_input, p_from_null)\n",
    "\n",
    "MAX_RANDOM_SEED = 2**32 - 1"
   ]
  },
  {
   "cell_type": "code",
   "execution_count": 2,
   "metadata": {},
   "outputs": [],
   "source": [
    "# Simulate correlated data by sampling from multivariate normal\n",
    "def correlated_data(n_trs, n_subjects, r, mean=0, var=1):\n",
    "    \n",
    "    mean = np.full(n_subjects, mean)\n",
    "    cov = np.full((n_subjects, n_subjects), r)\n",
    "    np.fill_diagonal(cov, var)\n",
    "    data = np.random.multivariate_normal(mean, cov, size=n_trs)\n",
    "    \n",
    "    return data"
   ]
  },
  {
   "cell_type": "code",
   "execution_count": 3,
   "metadata": {},
   "outputs": [
    {
     "name": "stdout",
     "output_type": "stream",
     "text": [
      "Leave-one-out ISC = 0.4735845582642008\n",
      "Pairwise ISC = 0.2857616211356275\n"
     ]
    }
   ],
   "source": [
    "# Try a reasonable example with low N and decent correlation\n",
    "n_trs = 300\n",
    "n_subjects = 10\n",
    "r = .3\n",
    "\n",
    "# Generated our simulated correlated data\n",
    "data = correlated_data(n_trs, n_subjects, r)\n",
    "\n",
    "# Get leave-one-out ISC (we expect this to be inflated)\n",
    "iscs = isc(data, pairwise=False)\n",
    "mean_isc = compute_summary_statistic(iscs)\n",
    "print(f\"Leave-one-out ISC = {mean_isc}\")\n",
    "\n",
    "# Get pairwise ISC (not inflated)\n",
    "iscs = isc(data, pairwise=True)\n",
    "mean_isc = compute_summary_statistic(iscs)\n",
    "print(f\"Pairwise ISC = {mean_isc}\")"
   ]
  },
  {
   "cell_type": "code",
   "execution_count": 4,
   "metadata": {},
   "outputs": [],
   "source": [
    "def timeflip_isc(data, pairwise=False, summary_statistic='median',\n",
    "                 n_flips=1000, tolerate_nans=True, random_state=None):\n",
    "\n",
    "    \"\"\"Time-series flipping randomization for one-sample ISC\n",
    "    \n",
    "    For each voxel or ROI, compute the actual ISC and p-values\n",
    "    from a null distribution of ISCs where response time series\n",
    "    are first randomly flipped around zero (i.e. multiplied by 1 or -1).\n",
    "    Input time-series are mean-centered prior to computing ISC and test.\n",
    "    If pairwise, apply random time-series flipping to each subject and\n",
    "    compute pairwise ISCs. If leave-one-out approach is used (pairwise=False),\n",
    "    apply the random time-series flipping to only the left-out subject in each\n",
    "    iteration of the leave-one-out procedure. Input data should be a list where\n",
    "    each item is a time-points by voxels ndarray for a given subject.\n",
    "    Multiple input ndarrays must be the same shape. If a single ndarray is\n",
    "    supplied, the last dimension is assumed to correspond to subjects.\n",
    "    When using leave-one-out approach, NaNs are ignored when computing mean\n",
    "    time series of N-1 subjects (default: tolerate_nans=True). Alternatively,\n",
    "    you may supply a float between 0 and 1 indicating a threshold proportion\n",
    "    of N subjects with non-NaN values required when computing the average time\n",
    "    series for a given voxel. For example, if tolerate_nans=.8, ISCs will be\n",
    "    computed for any voxel where >= 80% of subjects have non-NaN values,\n",
    "    while voxels with < 80% non-NaN values will be assigned NaNs. If set to\n",
    "    False, NaNs are not tolerated and voxels with one or more NaNs among the\n",
    "    N-1 subjects will be assigned NaN. Setting tolerate_nans to True or False\n",
    "    will not affect the pairwise approach; however, if a threshold float is\n",
    "    provided, voxels that do not reach this threshold will be excluded. Note\n",
    "    that accommodating NaNs may be notably slower than setting tolerate_nans to\n",
    "    False. Returns the observed ISC and p-values (two-tailed test), as well as\n",
    "    the null distribution of ISCs computed on randomly flipped time-series\n",
    "    data.\n",
    "    \n",
    "    Parameters\n",
    "    ----------\n",
    "    data : list or ndarray (n_TRs x n_voxels x n_subjects)\n",
    "        fMRI data for which to compute ISFC\n",
    "\n",
    "    pairwise : bool, default: False\n",
    "        Whether to use pairwise (True) or leave-one-out (False) approach\n",
    "\n",
    "    summary_statistic : str, default: 'median'\n",
    "        Summary statistic, either 'median' (default) or 'mean'\n",
    "\n",
    "    n_flips : int, default: 1000\n",
    "        Number of randomly flipped samples\n",
    "\n",
    "    tolerate_nans : bool or float, default: True\n",
    "        Accommodate NaNs (when averaging in leave-one-out approach)\n",
    "\n",
    "    random_state = int, None, or np.random.RandomState, default: None\n",
    "        Initial random seed\n",
    "\n",
    "    Returns\n",
    "    -------\n",
    "    observed : float, observed ISC (without time-series flipping)\n",
    "        Actual ISCs\n",
    "\n",
    "    p : float, p-value\n",
    "        p-value based on randomized time-series flipping\n",
    "\n",
    "    distribution : ndarray, n_flips by voxels\n",
    "        Time-series flipped null distribution\n",
    "    \"\"\"\n",
    "    \n",
    "    # Check response time series input format\n",
    "    data, n_TRs, n_voxels, n_subjects = _check_timeseries_input(data)\n",
    "\n",
    "    # Mean-center time series for flipping around zero\n",
    "    data -= np.mean(data, axis=0)\n",
    "\n",
    "    # Get actual observed ISC\n",
    "    observed = isc(data, pairwise=pairwise,\n",
    "                   summary_statistic=summary_statistic,\n",
    "                   tolerate_nans=tolerate_nans)\n",
    "\n",
    "    # Roll axis to get subjects in first dimension for loop\n",
    "    if pairwise:\n",
    "        data = np.rollaxis(data, 2, 0)\n",
    "\n",
    "    # Iterate through randomized flips to create null distribution\n",
    "    distribution = []\n",
    "    for i in np.arange(n_flips):\n",
    "\n",
    "        # Random seed to be deterministically re-randomized at each iteration\n",
    "        if isinstance(random_state, np.random.RandomState):\n",
    "            prng = random_state\n",
    "        else:\n",
    "            prng = np.random.RandomState(random_state)\n",
    "\n",
    "        # Get a random set of flips based on number of subjects\n",
    "        flips = prng.choice([-1, 1], size=n_subjects, replace=True)\n",
    "\n",
    "        # In pairwise approach, apply all flips then compute pairwise ISCs\n",
    "        if pairwise:\n",
    "\n",
    "            # Apply flips to each subject's time series\n",
    "            flipped_data = data * flips\n",
    "\n",
    "            # Compute null ISC on shifted data for pairwise approach\n",
    "            flipped_isc = isc(flipped_data, pairwise=pairwise,\n",
    "                              summary_statistic=summary_statistic,\n",
    "                              tolerate_nans=tolerate_nans)\n",
    "\n",
    "        # In leave-one-out, apply flips only to each left-out participant\n",
    "        elif not pairwise:\n",
    "\n",
    "            flipped_isc = []\n",
    "            for s, flip in enumerate(flips):\n",
    "                flipped_subject = data[..., s] * flip\n",
    "                nonflipped_mean = np.mean(np.delete(data, s, 2), axis=2)\n",
    "                loo_isc = isc(np.dstack((flipped_subject, nonflipped_mean)),\n",
    "                              pairwise=False,\n",
    "                              summary_statistic=None,\n",
    "                              tolerate_nans=tolerate_nans)\n",
    "                flipped_isc.append(loo_isc)\n",
    "\n",
    "            # Get summary statistics across left-out subjects\n",
    "            flipped_isc = compute_summary_statistic(\n",
    "                              np.dstack(flipped_isc),\n",
    "                              summary_statistic=summary_statistic,\n",
    "                              axis=2)\n",
    "\n",
    "        distribution.append(flipped_isc)\n",
    "\n",
    "        # Update random state for next iteration\n",
    "        random_state = np.random.RandomState(prng.randint(0, MAX_RANDOM_SEED))\n",
    "\n",
    "    # Convert distribution to numpy array\n",
    "    distribution = np.vstack(distribution)\n",
    "\n",
    "    # Get p-value for actual median from shifted distribution\n",
    "    p = p_from_null(observed, distribution,\n",
    "                    side='two-sided', exact=False,\n",
    "                    axis=0)\n",
    "\n",
    "    return observed, p, distribution"
   ]
  },
  {
   "cell_type": "code",
   "execution_count": 5,
   "metadata": {},
   "outputs": [],
   "source": [
    "# Function for running FPR simulations\n",
    "def fpr_simulation(n_trs, n_subjects, test, r=.0, pairwise=False,\n",
    "                   nominal_p = .05, n_simulations=1000, seed=None,\n",
    "                   verbose=True):\n",
    "\n",
    "    np.random.seed(seed)\n",
    "    p_distribution = []\n",
    "    for i in np.arange(n_simulations):\n",
    "        data = correlated_data(n_trs, n_subjects, r)\n",
    "\n",
    "        if test == bootstrap_isc:\n",
    "            iscs = isc(data, pairwise=pairwise)\n",
    "            _, _, p, _ = test(iscs)\n",
    "\n",
    "        elif test == permutation_isc:\n",
    "            iscs = isc(data, pairwise=pairwise)\n",
    "            _, p, _ = test(iscs)\n",
    "\n",
    "        elif test in (phaseshift_isc, timeshift_isc, timeflip_isc):\n",
    "            _, p, _ = test(data, pairwise=pairwise)\n",
    "            \n",
    "        elif test == ttest_1samp:\n",
    "            iscs = isc(data, pairwise=pairwise)\n",
    "            _, p = ttest_1samp(iscs, popmean=0, axis=0)\n",
    "        \n",
    "        elif test == 'flip_timeseries':\n",
    "            zm_D = data - data.mean(0)  # Zero-mean all subj\n",
    "            nPerm = 1000\n",
    "            loo_perms = np.zeros(nPerm+1)\n",
    "            for perm in range(nPerm+1):\n",
    "                if perm > 0:\n",
    "                    zm_D *= (np.random.randint(2, size=n_subjects)*2-1)\n",
    "                loo_perms[perm] = isc(zm_D, pairwise=pairwise).mean()\n",
    "            p = [(loo_perms[0] < loo_perms[1:]).mean()]\n",
    "\n",
    "        if verbose and i > 0 and i % 10 == 0:\n",
    "            print(f\"Finished simulation {i}\")\n",
    "\n",
    "        p_distribution.append(p[0])\n",
    "        \n",
    "    p_distribution = np.array(p_distribution)\n",
    "    \n",
    "    # Compute number of false positives among simulations\n",
    "    # i.e. number of p-values less than nominal p of 0.05\n",
    "    fpr = np.sum(p_distribution <= nominal_p) / n_simulations\n",
    "    \n",
    "    return fpr, p_distribution"
   ]
  },
  {
   "cell_type": "code",
   "execution_count": 32,
   "metadata": {},
   "outputs": [],
   "source": [
    "# Set common parameters across all noise simulations\n",
    "n_trs = 300\n",
    "n_subjects = 30\n",
    "r = .0\n",
    "pairwise = False\n",
    "nominal_p = .05\n",
    "n_simulations = 100"
   ]
  },
  {
   "cell_type": "code",
   "execution_count": 33,
   "metadata": {},
   "outputs": [
    {
     "name": "stdout",
     "output_type": "stream",
     "text": [
      "Finished simulation 10\n",
      "Finished simulation 20\n",
      "Finished simulation 30\n",
      "Finished simulation 40\n",
      "Finished simulation 50\n",
      "Finished simulation 60\n",
      "Finished simulation 70\n",
      "Finished simulation 80\n",
      "Finished simulation 90\n",
      "FPR = 0.100 (for nominal p = 0.05) using \"bootstrap_isc\"\n"
     ]
    }
   ],
   "source": [
    "# Run the FPR simulation for the bootstrap test\n",
    "test = bootstrap_isc\n",
    "fpr, p_distribution = fpr_simulation(n_trs, n_subjects, test,\n",
    "                                     n_simulations=100, seed=1)\n",
    "print(f'FPR = {fpr:.3f} (for nominal p = {nominal_p}) using \"{test.__name__}\"')"
   ]
  },
  {
   "cell_type": "code",
   "execution_count": 34,
   "metadata": {},
   "outputs": [
    {
     "name": "stdout",
     "output_type": "stream",
     "text": [
      "Finished simulation 10\n",
      "Finished simulation 20\n",
      "Finished simulation 30\n",
      "Finished simulation 40\n",
      "Finished simulation 50\n",
      "Finished simulation 60\n",
      "Finished simulation 70\n",
      "Finished simulation 80\n",
      "Finished simulation 90\n",
      "FPR = 0.060 (for nominal p = 0.05) using \"permutation_isc\"\n"
     ]
    }
   ],
   "source": [
    "# Run the FPR simulation for the permutation test\n",
    "test = permutation_isc\n",
    "fpr, p_distribution = fpr_simulation(n_trs, n_subjects, test,\n",
    "                                     n_simulations=100, seed=1)\n",
    "print(f'FPR = {fpr:.3f} (for nominal p = {nominal_p}) using \"{test.__name__}\"')"
   ]
  },
  {
   "cell_type": "code",
   "execution_count": 35,
   "metadata": {},
   "outputs": [
    {
     "name": "stdout",
     "output_type": "stream",
     "text": [
      "Finished simulation 10\n",
      "Finished simulation 20\n",
      "Finished simulation 30\n",
      "Finished simulation 40\n",
      "Finished simulation 50\n",
      "Finished simulation 60\n",
      "Finished simulation 70\n",
      "Finished simulation 80\n",
      "Finished simulation 90\n",
      "FPR = 0.090 (for nominal p = 0.05) using \"phaseshift_isc\"\n"
     ]
    }
   ],
   "source": [
    "# Run the FPR simulation for the phase randomization test\n",
    "test = phaseshift_isc\n",
    "fpr, p_distribution = fpr_simulation(n_trs, n_subjects, test,\n",
    "                                     n_simulations=100, seed=1)\n",
    "print(f'FPR = {fpr:.3f} (for nominal p = {nominal_p}) using \"{test.__name__}\"')"
   ]
  },
  {
   "cell_type": "code",
   "execution_count": 37,
   "metadata": {},
   "outputs": [
    {
     "name": "stdout",
     "output_type": "stream",
     "text": [
      "Finished simulation 10\n",
      "Finished simulation 20\n",
      "Finished simulation 30\n",
      "Finished simulation 40\n",
      "Finished simulation 50\n",
      "Finished simulation 60\n",
      "Finished simulation 70\n",
      "Finished simulation 80\n",
      "Finished simulation 90\n",
      "FPR = 0.090 (for nominal p = 0.05) using \"timeshift_isc\"\n"
     ]
    }
   ],
   "source": [
    "# Run the FPR simulation for the circular time-shift test\n",
    "test = timeshift_isc\n",
    "fpr, p_distribution = fpr_simulation(n_trs, n_subjects, test,\n",
    "                                     n_simulations=100, seed=1)\n",
    "print(f'FPR = {fpr:.3f} (for nominal p = {nominal_p}) using \"{test.__name__}\"')"
   ]
  },
  {
   "cell_type": "code",
   "execution_count": 39,
   "metadata": {},
   "outputs": [
    {
     "name": "stdout",
     "output_type": "stream",
     "text": [
      "Finished simulation 10\n",
      "Finished simulation 20\n",
      "Finished simulation 30\n",
      "Finished simulation 40\n",
      "Finished simulation 50\n",
      "Finished simulation 60\n",
      "Finished simulation 70\n",
      "Finished simulation 80\n",
      "Finished simulation 90\n",
      "FPR = 0.050 (for nominal p = 0.05) using \"flip_timeseries\"\n"
     ]
    }
   ],
   "source": [
    "# Run the FPR simulation for sign-flipping the timecourses\n",
    "test = 'flip_timeseries'\n",
    "fpr, p_distribution = fpr_simulation(n_trs, n_subjects, test,\n",
    "                                     n_simulations=100, seed=1)\n",
    "print(f'FPR = {fpr:.3f} (for nominal p = {nominal_p}) using \"{test}\"')"
   ]
  },
  {
   "cell_type": "code",
   "execution_count": 51,
   "metadata": {},
   "outputs": [
    {
     "name": "stdout",
     "output_type": "stream",
     "text": [
      "Finished simulation 10\n",
      "Finished simulation 20\n",
      "Finished simulation 30\n",
      "Finished simulation 40\n",
      "Finished simulation 50\n",
      "Finished simulation 60\n",
      "Finished simulation 70\n",
      "Finished simulation 80\n",
      "Finished simulation 90\n",
      "FPR = 0.060 (for nominal p = 0.05) using \"timeflip_isc\"\n"
     ]
    }
   ],
   "source": [
    "# Run the FPR simulation for the time-series flipping test\n",
    "test = timeflip_isc\n",
    "fpr, p_distribution = fpr_simulation(n_trs, n_subjects, test,\n",
    "                                     n_simulations=100, seed=1)\n",
    "print(f'FPR = {fpr:.3f} (for nominal p = {nominal_p}) using \"{test.__name__}\"')"
   ]
  },
  {
   "cell_type": "code",
   "execution_count": 66,
   "metadata": {},
   "outputs": [
    {
     "name": "stdout",
     "output_type": "stream",
     "text": [
      "Finished simulation 10\n",
      "Finished simulation 20\n",
      "Finished simulation 30\n",
      "Finished simulation 40\n",
      "Finished simulation 50\n",
      "Finished simulation 60\n",
      "Finished simulation 70\n",
      "Finished simulation 80\n",
      "Finished simulation 90\n",
      "FPR = 0.110 (for nominal p = 0.05) using \"ttest_1samp\"\n"
     ]
    }
   ],
   "source": [
    "# Run the FPR simulation for the parametric t-test\n",
    "test = ttest_1samp\n",
    "fpr, p_distribution = fpr_simulation(n_trs, n_subjects, test,\n",
    "                                     n_simulations=100, seed=1)\n",
    "print(f'FPR = {fpr:.3f} (for nominal p = {nominal_p}) using \"{test.__name__}\"')"
   ]
  }
 ],
 "metadata": {
  "kernelspec": {
   "display_name": "Python 3",
   "language": "python",
   "name": "python3"
  },
  "language_info": {
   "codemirror_mode": {
    "name": "ipython",
    "version": 3
   },
   "file_extension": ".py",
   "mimetype": "text/x-python",
   "name": "python",
   "nbconvert_exporter": "python",
   "pygments_lexer": "ipython3",
   "version": "3.7.7"
  }
 },
 "nbformat": 4,
 "nbformat_minor": 4
}
